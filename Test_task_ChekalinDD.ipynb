{
 "cells": [
  {
   "cell_type": "markdown",
   "metadata": {},
   "source": [
    "# Задание для отбора на стажировку Департамент вычислительной биологии BIOCAD"
   ]
  },
  {
   "cell_type": "markdown",
   "metadata": {},
   "source": [
    "\"Мы часто обеспокоены тем, как изменения в белках влияют на их поведение. Проще всего судить об этом в терминах свободной энергии, поэтому в BIOCAD мы часто используем с молекулярную динамику. Поскольку белки большие и сложные молекулы, а собственный вычислительный кластер есть не у каждого, то в качестве тестового задания мы предлагаем менее «тяжеловесную» задачу. Предлагается оценить свободную энергию растворения в воде, для самой маленькой аминокислоты — глицина. Допустимо использовать любой движок молекулярной динамики. Если вы ранее не сталкивались с этим инструментом, можете использовать GROMACS (https://www.gromacs.org/). \n",
    "\n",
    "В решении задания опишите, что было сделано для проведения расчёта, приведите результаты, которые получились. Попробуйте интерпретировать их и оценить, насколько они соответствуют реальным значениям.\""
   ]
  },
  {
   "cell_type": "markdown",
   "metadata": {},
   "source": [
    "Расчет свободной энергии удобен тем, что можно соотнести результаты вычисления с экспериментом. Если я правильно понимаю, так как при растворении не меняется кол-во вещества, $\\Delta\\nu$ = 0, энергия растворения равна энтальпии, $\\Delta G$ = $\\Delta H$. Сперва открыл [данные для глицина](https://webbook.nist.gov/cgi/cbook.cgi?Source=1959TAK%2FCHI84-88&Units=SI&Mask=1E9F) в базе National Institute of Standards and Technology (NIST), но энтальпии растворения здесь не было. В итоге нашел её в [статье](https://doi.org/10.1016/0040-6031(91)80390-5): $\\Delta H^o _{sol} = 14.2 кДж/моль$ "
   ]
  },
  {
   "cell_type": "markdown",
   "metadata": {},
   "source": [
    "Молекулярная динамика и Метод Монте Карло в стандартном виде не применяются, потому что для расчета свободной энергии используется соотношение между временем когда с-ма находилась в одном и другом состоянии $\\Delta G = -RTlnK$, где $К = t1/t2$.\n",
    "А МД и МК \"не любят\" те места фазового пр-ва, где энергия не минимальна, под \"не любят\" имеется в виду, что они находятся в этих состояниях с очень маленькой вероятностью и чтобы зафиксировать их, придется проводить динамику очень долго, это дорого"
   ]
  },
  {
   "cell_type": "markdown",
   "metadata": {},
   "source": [
    "Технические характеристики и версии программ\n",
    "* ОS: MacOS Sonoma build 23A344\n",
    "* Chip: Apple M1\n",
    "* Python: 3.11.6\n",
    "* GROMACS: 2023.3-Homebrew\n",
    "* Open Babel: 3.1.0\n",
    "* ChemSketch: ACD/ChemSketch (Freeware) 2023.1.1\n",
    "\n",
    "\n",
    "Этот документ в формате .pynb можно открыть [тут](https://drive.google.com/file/d/1I4t8hwq-arAs3fOKtoruVECNAkwfMd8j/view?usp=sharing)"
   ]
  },
  {
   "cell_type": "markdown",
   "metadata": {},
   "source": [
    "Импортирую все необходимые в дальнейшем модули\n"
   ]
  },
  {
   "cell_type": "code",
   "execution_count": null,
   "metadata": {},
   "outputs": [],
   "source": [
    "import os\n",
    "import shutil\n",
    "from pathlib import Path\n",
    "import pubchempy as pcp"
   ]
  },
  {
   "cell_type": "markdown",
   "metadata": {},
   "source": [
    "Настраиваю рабочую директорию, создаю подпапки для входных и выходных файлов"
   ]
  },
  {
   "cell_type": "code",
   "execution_count": null,
   "metadata": {},
   "outputs": [],
   "source": [
    "dir = Path('/Users/denischekalin/Desktop/biocad/simulation') # write your directory for simulation\n",
    "os.chdir(dir)\n",
    "\n",
    "Path('output_files').mkdir(exist_ok=True)\n",
    "Path('input_files').mkdir(exist_ok=True)\n",
    "\n",
    "input_files=dir.joinpath('input_files')\n",
    "output_files=dir.joinpath('output_files')"
   ]
  },
  {
   "cell_type": "markdown",
   "metadata": {},
   "source": [
    "Оптимальный вариант, это скачать уже готовую оптимизированную и протонированную структуру глицина c базы данных PubChem (CID 750) "
   ]
  },
  {
   "cell_type": "code",
   "execution_count": null,
   "metadata": {},
   "outputs": [],
   "source": [
    "pcp.download('SDF', input_files/'gly.sdf', 'glycine', 'name', record_type='3d', overwrite=True)"
   ]
  },
  {
   "cell_type": "markdown",
   "metadata": {},
   "source": [
    "Перевожу из sdf в pdb формат, это нужно, чтобы молекулу можно было подать pdb2gmx, команде gromacs, которая делает файл топологии на основе силового поля. Для этого использую Open Babel"
   ]
  },
  {
   "cell_type": "code",
   "execution_count": null,
   "metadata": {},
   "outputs": [],
   "source": [
    "!obabel 'input_files/gly.sdf' -O 'input_files/gly.pdb'"
   ]
  },
  {
   "cell_type": "markdown",
   "metadata": {},
   "source": [
    "Для проверки открыл файл gly.pdb в текстовом редакторе и в PyMOL, всё в порядке"
   ]
  },
  {
   "cell_type": "markdown",
   "metadata": {},
   "source": [
    "Можно еще сделать и оптимизировать трехмерную структуру с помощью RDkit"
   ]
  },
  {
   "cell_type": "code",
   "execution_count": null,
   "metadata": {},
   "outputs": [],
   "source": [
    "from rdkit import Chem\n",
    "from rdkit.Chem import AllChem\n",
    "\n",
    "glycine = Chem.MolFromSmiles(\"NCC(=O)O\")\n",
    "glycine = Chem.AddHs(glycine)\n",
    "AllChem.EmbedMolecule(glycine)\n",
    "AllChem.MMFFOptimizeMolecule(glycine)\n",
    "Chem.MolToPDBFile(glycine, \"input_files/gly_RD.pdb\")"
   ]
  },
  {
   "cell_type": "markdown",
   "metadata": {},
   "source": [
    "Со структурой всё в порядке, но если пользоваться ею дальше, то в pdb файле необходимо поменять названия атомов и вместо UNL подписать, что это GLY"
   ]
  },
  {
   "cell_type": "markdown",
   "metadata": {},
   "source": [
    "Или нарисовать с помощью ChemSketch, в этой программе хорошая оптимизация трехмерной структуры. Потом тоже перевести в pdb"
   ]
  },
  {
   "cell_type": "code",
   "execution_count": null,
   "metadata": {},
   "outputs": [],
   "source": [
    "!obabel 'input_files/gly_CS.mol' -O 'input_files/gly_CS.pdb'"
   ]
  },
  {
   "cell_type": "markdown",
   "metadata": {},
   "source": [
    "Тут тоже всё в порядке"
   ]
  },
  {
   "cell_type": "markdown",
   "metadata": {},
   "source": [
    "Как написал ранее, всё же если соединение есть в PubChem, оптимально взять его структуру оттуда.\n",
    "Она уже протонирована и оптимизирована, pdb файл проверен, можно подавать его pdb2gmx. \n",
    "Во многих силовых полях не было описания глицина как отдельного (начального и конечного) остатка. Работали только два поля: charmm27 и оplsaa. Charmm27, на мой взгляд, делает описание лучше, потому что на выходе в файле топологии (topol.top) суммарный заряд молекулы (qtot) получается равным нулю, тогда как в оplsaa он равен -0.11. Неудобно будет проводить динамику с таким условием, если оставить суммарный заряд моделируемой системы не нулевым, то ..., чтобы уравновесить заряды, обычно в раствор добавляют ионы (genion в громаксе), а как уравновесить не целый заряд? В итоге силовое поле (-ff) charmm27 и tip3p модель воды (громакс пишет, что для поля рекомендуется именно эта модель, я соглашусь)"
   ]
  },
  {
   "cell_type": "code",
   "execution_count": null,
   "metadata": {},
   "outputs": [],
   "source": [
    "!gmx pdb2gmx -f './input_files/gly.pdb' -o './output_files/gly.gro'  -ff charmm27 -water tip3p #-ff oplsaa -water tip4p"
   ]
  },
  {
   "cell_type": "markdown",
   "metadata": {},
   "source": [
    "Создаю коробку (додекаэдр) такого размера, чтобы минимальное расстояние между глицином в центре коробки и её краем  составляло 1,2 нм (такое значение брали для молекулы этанола в туториале на официальном сайте громакса, т.к. молекула глицина примерно того же размера, возьму такое же расстояние, и далее буду ориентироваться на значения из [туториала](https://tutorials.gromacs.org/free-energy-of-solvation.html))."
   ]
  },
  {
   "cell_type": "code",
   "execution_count": null,
   "metadata": {},
   "outputs": [],
   "source": [
    "!gmx editconf -f './output_files/gly.gro' -o './output_files/box.gro' -c -bt dodecahedron -d 1.2"
   ]
  },
  {
   "cell_type": "markdown",
   "metadata": {},
   "source": [
    "Наливаем воду в коробку. Получается 490 молекул растворителя"
   ]
  },
  {
   "cell_type": "code",
   "execution_count": null,
   "metadata": {},
   "outputs": [],
   "source": [
    "!gmx solvate -cp './output_files/box.gro' -cs -o './output_files/solvated.gro' -p 'topol.top'"
   ]
  },
  {
   "cell_type": "markdown",
   "metadata": {},
   "source": [
    "Первоначальное размещение молекул воды не идеально, это связано с алгоритмом gmx solvate, сначала молекулы воды добавляются по всему объему коробки, а потом просто удаляются те, которые перекрылись с растворенным веществом. Поэтому  система может содержать участки пустого пространства и атомы, расположенные слишком близко друг к другу, что вызовет очень высокие межатомные силы. Поэтому предварительно нужно минимизировать энергию системы. А для этого подготовить .mdp файл с параметрами минимизации"
   ]
  },
  {
   "cell_type": "code",
   "execution_count": null,
   "metadata": {},
   "outputs": [],
   "source": [
    "def write_mdp(mdp_string, mdp_name, directory):\n",
    "    mdp_filename=os.path.join(directory,mdp_name)\n",
    "    mdp_filehandle=open(mdp_filename,'w')\n",
    "    mdp_filehandle.write(mdp_string)\n",
    "    mdp_filehandle.close()\n",
    "\n",
    "em_mdp=\"\"\";minimal mdp options for energy minimization\n",
    "integrator               = steep\n",
    "nsteps                   = 500\n",
    "coulombtype              = pme\n",
    "\"\"\"\n",
    "write_mdp(em_mdp, 'em.mdp', output_files)"
   ]
  },
  {
   "cell_type": "markdown",
   "metadata": {},
   "source": [
    "Затем em.mdp файл нужно предобработать с помощью grompp в файл выполнения em.tpr - файл, содержащий все данные, необходимые для выполнения минимизации, включая координаты атомов, топологию и протокол моделирования."
   ]
  },
  {
   "cell_type": "code",
   "execution_count": null,
   "metadata": {},
   "outputs": [],
   "source": [
    "!gmx grompp -f 'output_files/em.mdp' -c 'output_files/solvated.gro' -o 'output_files/em.tpr'"
   ]
  },
  {
   "cell_type": "markdown",
   "metadata": {},
   "source": [
    "Запускаю моделирование минимизации энергии"
   ]
  },
  {
   "cell_type": "code",
   "execution_count": null,
   "metadata": {},
   "outputs": [],
   "source": [
    "!gmx mdrun -v -deffnm 'output_files/em'"
   ]
  },
  {
   "cell_type": "markdown",
   "metadata": {},
   "source": [
    "Для вычисления свободной энергии необходимо, чтобы система поддерживала постоянную температуру и давление\n",
    "Поэтому необходимо уравновесить энергию в системе — достичь равномерного распределения энергии по системе. Для этого будут использоваться термостат и баростат (алгоритмы для сохранения соответствующих параметров). При релаксации с-мы образуется излишек кинетической энергии, повышается температура, самый простой способ контролировать температуру термостат с масштабированием скоростей. Баростат с C-масштабированием. \n",
    "Так же как и при минимизации необходимо написать конфигурационный файл .mdp, с использование которого создается .tpr и передается в GROMACS для запуска моделирования."
   ]
  },
  {
   "cell_type": "code",
   "execution_count": null,
   "metadata": {},
   "outputs": [],
   "source": [
    "equil_mdp=\"\"\";equilibration mdp options\n",
    "integrator               = md\n",
    "nsteps                   = 100000\n",
    "dt                       = 0.002\n",
    "nstenergy                = 100\n",
    "rlist                    = 1.1\n",
    "nstlist                  = 10\n",
    "rvdw                     = 1.1\n",
    "coulombtype              = pme\n",
    "rcoulomb                 = 1.1\n",
    "fourierspacing           = 0.13\n",
    "constraints              = h-bonds\n",
    "tcoupl                   = v-rescale\n",
    "tc-grps                  = system\n",
    "tau-t                    = 0.5\n",
    "ref-t                    = 300\n",
    "pcoupl                   = C-rescale\n",
    "ref-p                    = 1\n",
    "compressibility          = 4.5e-5\n",
    "tau-p                    = 1\n",
    "gen-vel                  = yes\n",
    "gen-temp                 = 300\n",
    "\"\"\"\n",
    "write_mdp(equil_mdp, 'equil.mdp', output_files)"
   ]
  },
  {
   "cell_type": "code",
   "execution_count": null,
   "metadata": {},
   "outputs": [],
   "source": [
    "!gmx grompp -f 'output_files/equil.mdp' -c 'output_files/em.gro' -o 'output_files/equil.tpr'\n"
   ]
  },
  {
   "cell_type": "code",
   "execution_count": null,
   "metadata": {},
   "outputs": [],
   "source": [
    "!gmx mdrun -deffnm 'output_files/equil'"
   ]
  },
  {
   "cell_type": "markdown",
   "metadata": {},
   "source": [
    "Подготовка системы завершена\n",
    "\n",
    "Так как не можем напрямую посчитать разницу в свободной энергии между глицином в вакууме и в воде, вводим в силовое поле параметр лямбда перед слагаемым отвечающим за взаимодействие между раствором и растворённым веществом, т.е. между водой и глицином. Будем этот параметр постепенно менять от 0 до 1, определять различные точки (например, 0.0 0.2 0.4 0.6 0.8 0.9 1.0), каждая из которых будет указывать на \"алхимическое\" переходное состояние, между которыми уже сможем посчитать разницу в свободной энергии\n",
    "Допустим растворение происходит при комнатной температуре 298K"
   ]
  },
  {
   "cell_type": "code",
   "execution_count": null,
   "metadata": {},
   "outputs": [],
   "source": [
    "run_mdp=\"\"\"; we'll use the sd integrator (an accurate and efficient leap-frog stochastic dynamics integrator) with 100000 time steps (200ps)\n",
    "integrator               = sd\n",
    "nsteps                   = 100000\n",
    "dt                       = 0.002\n",
    "nstenergy                = 1000\n",
    "nstcalcenergy            = 50 ; should be a divisor of nstdhdl \n",
    "nstlog                   = 5000\n",
    "; cut-offs at 1.0nm\n",
    "rlist                    = 1.1\n",
    "rvdw                     = 1.1\n",
    "; Coulomb interactions\n",
    "coulombtype              = pme\n",
    "rcoulomb                 = 1.1\n",
    "fourierspacing           = 0.13\n",
    "; Constraints\n",
    "constraints              = h-bonds\n",
    "; set temperature to 298K\n",
    "tc-grps                  = system\n",
    "tau-t                    = 2.0\n",
    "ref-t                    = 298\n",
    "; set pressure to 1 bar with a thermostat that gives a correct\n",
    "; thermodynamic ensemble\n",
    "pcoupl                   = C-rescale\n",
    "ref-p                    = 1.0\n",
    "compressibility          = 4.5e-5\n",
    "tau-p                    = 5.0\n",
    "\n",
    "; and set the free energy parameters\n",
    "free-energy              = yes\n",
    "couple-moltype           = Protein_chain_A\n",
    "nstdhdl                  = 50 ; frequency for writing energy difference in dhdl.xvg, 0 means no ouput, should be a multiple of nstcalcenergy. \n",
    "; these 'soft-core' parameters make sure we never get overlapping\n",
    "; charges as lambda goes to 0\n",
    "; soft-core function\n",
    "sc-power                 = 1\n",
    "sc-sigma                 = 0.3\n",
    "sc-alpha                 = 1.0\n",
    "; we still want the molecule to interact with itself at lambda=0\n",
    "couple-intramol          = no\n",
    "couple-lambda1           = vdwq\n",
    "couple-lambda0           = none\n",
    "init-lambda-state        = {}\n",
    "; These are the lambda states at which we simulate\n",
    "; for separate LJ and Coulomb decoupling, use\n",
    "fep-lambdas              = 0.0 0.2 0.4 0.6 0.8 0.9 1.0\n",
    "\"\"\""
   ]
  },
  {
   "cell_type": "markdown",
   "metadata": {},
   "source": [
    "Теперь нужно выполнить grompp и mdrun последовательно для каждой точки"
   ]
  },
  {
   "cell_type": "code",
   "execution_count": null,
   "metadata": {},
   "outputs": [],
   "source": [
    "os.chdir(dir)\n",
    "%cp topol.top output_files"
   ]
  },
  {
   "cell_type": "code",
   "execution_count": null,
   "metadata": {},
   "outputs": [],
   "source": [
    "number_of_lambdas=7\n",
    "for lambda_number in range(number_of_lambdas):\n",
    "    lambda_directory=os.path.join(output_files,'lambda_{:0>2}'.format(lambda_number))\n",
    "    Path(lambda_directory).mkdir(exist_ok=True)\n",
    "    gro_file=os.path.join(output_files,'equil.gro')\n",
    "    top_file=os.path.join(output_files,'topol.top')\n",
    "    shutil.copy(gro_file,os.path.join(lambda_directory,'conf.gro'))\n",
    "    shutil.copy(top_file,lambda_directory)\n",
    "    write_mdp(run_mdp.format(lambda_number),'grompp.mdp',lambda_directory)\n",
    "    %cd $lambda_directory\n",
    "    !gmx grompp\n",
    "    !gmx mdrun "
   ]
  },
  {
   "cell_type": "code",
   "execution_count": null,
   "metadata": {},
   "outputs": [],
   "source": [
    "%cd .."
   ]
  },
  {
   "cell_type": "markdown",
   "metadata": {},
   "source": [
    "С помощью gmx bar посчитать разницу в свободной энергии между состояниями используя метод Bennett acceptance ratio (BAR). Сумма разниц энергий будет равна свободной энергии растворения."
   ]
  },
  {
   "cell_type": "code",
   "execution_count": 21,
   "metadata": {},
   "outputs": [
    {
     "name": "stdout",
     "output_type": "stream",
     "text": [
      "                   :-) GROMACS - gmx bar, 2023.3-Homebrew (-:\n",
      "\n",
      "Executable:   /opt/homebrew/bin/../Cellar/gromacs/2023.3/bin/gmx\n",
      "Data prefix:  /opt/homebrew/bin/../Cellar/gromacs/2023.3\n",
      "Working dir:  /Users/denischekalin/Desktop/biocad/simulation/output_files\n",
      "Command line:\n",
      "  gmx bar -b 100 -f lambda_00/dhdl.xvg lambda_01/dhdl.xvg lambda_02/dhdl.xvg lambda_03/dhdl.xvg lambda_04/dhdl.xvg lambda_05/dhdl.xvg lambda_06/dhdl.xvg\n",
      "\n",
      "lambda_00/dhdl.xvg: Ignoring set 'pV (kJ/mol)'.\n",
      "lambda_00/dhdl.xvg: 0.0 - 200.0; lambda = 0\n",
      "    dH/dl & foreign lambdas:\n",
      "        dH/dl (fep-lambda) (2001 pts)\n",
      "        delta H to 0 (2001 pts)\n",
      "        delta H to 0.2 (2001 pts)\n",
      "\n",
      "\n",
      "lambda_01/dhdl.xvg: Ignoring set 'pV (kJ/mol)'.\n",
      "lambda_01/dhdl.xvg: 0.0 - 200.0; lambda = 0.2\n",
      "    dH/dl & foreign lambdas:\n",
      "        dH/dl (fep-lambda) (2001 pts)\n",
      "        delta H to 0 (2001 pts)\n",
      "        delta H to 0.2 (2001 pts)\n",
      "        delta H to 0.4 (2001 pts)\n",
      "\n",
      "\n",
      "lambda_02/dhdl.xvg: Ignoring set 'pV (kJ/mol)'.\n",
      "lambda_02/dhdl.xvg: 0.0 - 200.0; lambda = 0.4\n",
      "    dH/dl & foreign lambdas:\n",
      "        dH/dl (fep-lambda) (2001 pts)\n",
      "        delta H to 0.2 (2001 pts)\n",
      "        delta H to 0.4 (2001 pts)\n",
      "        delta H to 0.6 (2001 pts)\n",
      "\n",
      "\n",
      "lambda_03/dhdl.xvg: Ignoring set 'pV (kJ/mol)'.\n",
      "lambda_03/dhdl.xvg: 0.0 - 200.0; lambda = 0.6\n",
      "    dH/dl & foreign lambdas:\n",
      "        dH/dl (fep-lambda) (2001 pts)\n",
      "        delta H to 0.4 (2001 pts)\n",
      "        delta H to 0.6 (2001 pts)\n",
      "        delta H to 0.8 (2001 pts)\n",
      "\n",
      "\n",
      "lambda_04/dhdl.xvg: Ignoring set 'pV (kJ/mol)'.\n",
      "lambda_04/dhdl.xvg: 0.0 - 200.0; lambda = 0.8\n",
      "    dH/dl & foreign lambdas:\n",
      "        dH/dl (fep-lambda) (2001 pts)\n",
      "        delta H to 0.6 (2001 pts)\n",
      "        delta H to 0.8 (2001 pts)\n",
      "        delta H to 0.9 (2001 pts)\n",
      "\n",
      "\n",
      "lambda_05/dhdl.xvg: Ignoring set 'pV (kJ/mol)'.\n",
      "lambda_05/dhdl.xvg: 0.0 - 200.0; lambda = 0.9\n",
      "    dH/dl & foreign lambdas:\n",
      "        dH/dl (fep-lambda) (2001 pts)\n",
      "        delta H to 0.8 (2001 pts)\n",
      "        delta H to 0.9 (2001 pts)\n",
      "        delta H to 1 (2001 pts)\n",
      "\n",
      "\n",
      "lambda_06/dhdl.xvg: Ignoring set 'pV (kJ/mol)'.\n",
      "lambda_06/dhdl.xvg: 0.0 - 200.0; lambda = 1\n",
      "    dH/dl & foreign lambdas:\n",
      "        dH/dl (fep-lambda) (2001 pts)\n",
      "        delta H to 0.9 (2001 pts)\n",
      "        delta H to 1 (2001 pts)\n",
      "\n",
      "\n",
      "\n",
      "   Samples in time interval: 0.000 - 200.000\n",
      "Removing samples outside of: 100.000 - 200.000\n",
      "\n",
      "Temperature: 298 K\n",
      "\n",
      "Detailed results in kT (see help for explanation):\n",
      "\n",
      " lam_A  lam_B      DG   +/-     s_A   +/-     s_B   +/-   stdev   +/- \n",
      "     0      1   -3.77  0.02    1.21  0.06    1.21  0.06    1.64  0.03\n",
      "     1      2   -4.58  0.04    1.80  0.09    1.76  0.11    2.09  0.06\n",
      "     2      3   -5.41  0.17    7.18  0.24    5.67  0.12    6.01  0.31\n",
      "     3      4  -16.10  0.35   17.66  0.86    7.09  0.32    7.92  0.41\n",
      "     4      5  -16.72  0.10    3.98  0.13    3.49  0.07    3.32  0.07\n",
      "     5      6  -52.07  1.93   26.41  1.87   42.57  2.14   88.79  3.58\n",
      "\n",
      "\n",
      "Final results in kJ/mol:\n",
      "\n",
      "point      0 -      1,   DG -9.35 +/-  0.06\n",
      "point      1 -      2,   DG -11.34 +/-  0.10\n",
      "point      2 -      3,   DG -13.41 +/-  0.41\n",
      "point      3 -      4,   DG -39.90 +/-  0.87\n",
      "point      4 -      5,   DG -41.42 +/-  0.25\n",
      "point      5 -      6,   DG -129.02 +/-  4.79\n",
      "\n",
      "total      0 -      6,   DG -244.43 +/-  4.09\n",
      "\n",
      "\n",
      "GROMACS reminds you: \"Computer science is no more about computers than astronomy is about telescopes\" (Edsger Dijkstra)\n",
      "\n"
     ]
    }
   ],
   "source": [
    "!gmx bar -b 100 -f lambda_0?/dhdl.xvg "
   ]
  },
  {
   "cell_type": "markdown",
   "metadata": {},
   "source": [
    "Вывод: выходное значение свободной энергии варьируется от запуска к запуску, это неудивительно, т.к. система содержит стохастические составляющие. Но величина получилась на порядок больше значения, которое я ожидал: -244.43 кДж/моль"
   ]
  }
 ],
 "metadata": {
  "kernelspec": {
   "display_name": "base",
   "language": "python",
   "name": "python3"
  },
  "language_info": {
   "codemirror_mode": {
    "name": "ipython",
    "version": 3
   },
   "file_extension": ".py",
   "mimetype": "text/x-python",
   "name": "python",
   "nbconvert_exporter": "python",
   "pygments_lexer": "ipython3",
   "version": "3.11.6"
  },
  "orig_nbformat": 4
 },
 "nbformat": 4,
 "nbformat_minor": 2
}
